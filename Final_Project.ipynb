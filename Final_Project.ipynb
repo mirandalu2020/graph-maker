{
 "cells": [
  {
   "cell_type": "markdown",
   "id": "338ff564",
   "metadata": {},
   "source": [
    "This project will be exploring how to extract useful information from poorly extracted potentiometric titration data. The titration was done by adding a sample of standardized HCl solution (~0.102M) to a mixture of sodium bicarbonate $Na_{2}CO_{3}$, and sodium carbonate, $NaHCO_{3}$. Since $Na_{2}$ can be protonated twice using HCl, two infelction points are expected. \n",
    "\n",
    "The titration data used in this project was collected by using visual indicators, phenolphthalein and bromocresol green, however, error can arise when the infelction points determination relies solely on color interpretation, especially in some cases, the color change can be very subtle such as bromocresol green. Bromocresol green is blue when in a basic solution, and turns yellow in acidic, so the inflection point actually occurs when the solution turns green from blue. Such subtle change can be very difficult to interpret using the naked eyes, so more quantitative methods should be employed to determine the infelction points of the titration. \n",
    "\n",
    "The titration method used to collect the data was using a potentiometer to measure to pH. A potentiometer works by measuring the the potential of the analyte in equilibrium in the solution,$E_{cell}$, which is proportionally related to the cation activities $a_{X}$ with equilibrium constant K, by the Nernst equation:<br>\n",
    "<center>$E_{cell}$ = K - $\\frac{0.0592}n$log($\\frac{1}{a_{X}}$)</center></h1><br>\n",
    "Note that the equation assums standard temperature and pressure, and when $a_{X}$ is small, it can be approximated using the concentration of the analyte of interest. Since the pH meter measures pH, ${a_{X}}$ can be approximated using the concentration of [$H^{+}$]. After rearranging, the equation now becomes:<br>\n",
    "<center>pH = -log$\\frac{1}{a_{X}}$ = (K - $E_{cell}$)$\\frac{0.0592}n$ </center></h1><br>\n",
    "\n",
    "So in order to determine the inflection points quantitatively, the first or second derivitive method can be used. In a titration curve, the inflection point occurs when the pH changes the most rapidly since that is when the solution is not longer a buffer. So in terms of first derivative, that is when the rate of change at a local maxima. The inflection point can also be determined using the second derivative, which occurs when the value crosses the zero line, where the \"zero-line test\" would be required to determine the inflection point occurance. "
   ]
  },
  {
   "cell_type": "code",
   "execution_count": 1,
   "id": "f5217d77",
   "metadata": {},
   "outputs": [],
   "source": [
    "import pandas as pd\n",
    "import scipy as sci\n",
    "import matplotlib.pyplot as plt\n",
    "import numpy as np"
   ]
  },
  {
   "cell_type": "code",
   "execution_count": 2,
   "id": "a8084d4e",
   "metadata": {},
   "outputs": [],
   "source": [
    "# the first derivative was computed by calculating the change in pH per unit of change in volume added\n",
    "# the second derivative was computed by the change of change in pH per squared unit of volume added\n",
    "\n",
    "def derivatives (x,y):\n",
    "    first_diff = np.abs(np.diff(y,1)/np.diff(x,1)).tolist()\n",
    "    second_diff = (np.diff(y,2))/(np.diff(x[0:len(x)-1],1)**2).tolist()\n",
    "    return first_diff, second_diff"
   ]
  },
  {
   "cell_type": "code",
   "execution_count": 3,
   "id": "cbec8732",
   "metadata": {},
   "outputs": [],
   "source": [
    "# since the noise could not be smoothed using a curve, and we know there is only one true inflection point\n",
    "# so the values with the largest difference the cross the horizontal axis would be the inflection point\n",
    "\n",
    "# input takes the list contains the second derivative values\n",
    "def inflection_2_2 (x,vol,ph):\n",
    "    inflection_index = []\n",
    "    differences = []\n",
    "\n",
    "    for ii in range(1,len(x)):\n",
    "        if x[ii]<0 and x[ii-1]>0:\n",
    "            difference = x[ii] - x[ii-1]\n",
    "            inflection_index.append([ii])\n",
    "            differences.append([difference])\n",
    "        elif x[ii]>0 and x[ii-1]<0:\n",
    "            difference = x[ii] - x[ii-1]\n",
    "            inflection_index.append([ii])\n",
    "            differences.append([difference])\n",
    "        elif x[ii] == 0:\n",
    "            inflection_index.append([ii])\n",
    "\n",
    "    # find the index with the largest differences\n",
    "    # and locate the original value using the second derivative value\n",
    "    # take the average value of the two that crossed the horizontal line\n",
    "\n",
    "    val = inflection_index[differences.index(max(differences))]\n",
    "    index = x.index(x[val[0]]) #index of the inflection point\n",
    "    inflectin_vol_2 = (vol[index+1] + vol[index])/2\n",
    "    ph_2_2 = (ph[index+1] + ph[index])/2\n",
    "    \n",
    "#returns the inflection point volume added and ph value using the 2nd derivative, \n",
    "    return(inflectin_vol_2,ph_2_2)"
   ]
  },
  {
   "cell_type": "code",
   "execution_count": null,
   "id": "ee213a29",
   "metadata": {},
   "outputs": [],
   "source": []
  },
  {
   "cell_type": "code",
   "execution_count": 4,
   "id": "a89415b1",
   "metadata": {},
   "outputs": [],
   "source": [
    "df = pd.read_csv('titration.csv')"
   ]
  },
  {
   "cell_type": "code",
   "execution_count": 5,
   "id": "e9a5da5a",
   "metadata": {},
   "outputs": [],
   "source": [
    "vol_added = [0]\n",
    "\n",
    "for ii in range(1,len(df)):\n",
    "    vol = df['VolumeReading'].iloc[ii] - df['VolumeReading'].iloc[0]\n",
    "    vol_added.append(vol)\n",
    "ph = np.array(df['pH'])\n",
    "df[\"vol_added\"] = vol_added\n",
    "total_vol = np.array(vol_added).reshape(1,-1)\n",
    "total_ph = ph.reshape(1,-1)"
   ]
  },
  {
   "cell_type": "code",
   "execution_count": 6,
   "id": "93ebf2b8",
   "metadata": {},
   "outputs": [
    {
     "data": {
      "text/plain": [
       "<matplotlib.collections.PathCollection at 0x7ff2cfaaef10>"
      ]
     },
     "execution_count": 6,
     "metadata": {},
     "output_type": "execute_result"
    },
    {
     "data": {
      "image/png": "[encoded data removed]",
      "text/plain": [
       "<Figure size 432x288 with 1 Axes>"
      ]
     },
     "metadata": {
      "needs_background": "light"
     },
     "output_type": "display_data"
    }
   ],
   "source": [
    "#check out how the data looks like\n",
    "\n",
    "fig = plt.figure()\n",
    "ax1 = fig.add_subplot(111)\n",
    "ax1.scatter(total_vol,total_ph)"
   ]
  },
  {
   "cell_type": "markdown",
   "id": "8b84649b",
   "metadata": {},
   "source": [
    "From the plot above, the data was not smooth since they were taken by hand. It may also be not obvious that there were two inflection points, which was resulted from erroneous interpretation when using the visual indicators. \n",
    "\n",
    "Since there were two inflection points, the data was broekn down into two sets to analyze each inflection separately. "
   ]
  },
  {
   "cell_type": "code",
   "execution_count": 7,
   "id": "43e8538e",
   "metadata": {},
   "outputs": [],
   "source": [
    "#since there were two inflection points, so the data set was split into two to analyze each infelction point separately\n",
    "#it looked like the value flattened out when the HCl was added mid-way, so the data would be split right in the middle\n",
    "\n",
    "vol_added_1 = vol_added[:len(vol_added)//2]\n",
    "ph_1 = ph[:len(vol_added)//2]\n",
    "\n",
    "vol_added_2 = vol_added[len(vol_added)//2:-1]\n",
    "ph_2 = ph[len(vol_added)//2:-1]"
   ]
  },
  {
   "cell_type": "code",
   "execution_count": 8,
   "id": "891d08a6",
   "metadata": {},
   "outputs": [
    {
     "name": "stderr",
     "output_type": "stream",
     "text": [
      "/Users/mirandalu/miniconda3/envs/che155/lib/python3.7/site-packages/ipykernel_launcher.py:17: UserWarning: Matplotlib is currently using module://matplotlib_inline.backend_inline, which is a non-GUI backend, so cannot show the figure.\n"
     ]
    },
    {
     "data": {
      "image/png": "[encoded data removed]",
      "text/plain": [
       "<Figure size 720x360 with 2 Axes>"
      ]
     },
     "metadata": {
      "needs_background": "light"
     },
     "output_type": "display_data"
    },
    {
     "data": {
      "text/plain": [
       "<Figure size 432x288 with 0 Axes>"
      ]
     },
     "metadata": {},
     "output_type": "display_data"
    }
   ],
   "source": [
    "# from the data, we can see that the second infleciton point should occur shortly after the last data point taken\n",
    "# unfortunetely the experiment was cut off early, as the visual indicator had shown the titration was completed\n",
    "# despite the fact that during the experiment, an additional 3 data points were taken to avoid the situation\n",
    "\n",
    "fig, (ax1,ax2) = plt.subplots(1, 2,figsize=(10,5))\n",
    "\n",
    "fig = plt.figure()\n",
    "\n",
    "ax1.scatter(vol_added_1,ph_1)\n",
    "ax2.scatter(vol_added_2,ph_2)\n",
    "\n",
    "ax1.set_ylabel(\"pH\")\n",
    "ax1.set_xlabel(\"Volume Added (mL)\")\n",
    "ax2.set_xlabel(\"Volume Added (mL)\")\n",
    "\n",
    "\n",
    "fig.show()"
   ]
  },
  {
   "cell_type": "markdown",
   "id": "8c119123",
   "metadata": {},
   "source": [
    "For the first inflection point data, a sigmoid curve can be used. A sigmoid curve takes in the form of: <br>\n",
    "<center> S(x) = $\\frac{1}{1+e^{-x}}$ <center>\n",
    "And the parameters used to optimized the functions are: A:lower asymptote,  B:upper asymptote, C:inflection point, D: slope of the curve. With the parameters, the equaion now looks like:\n",
    "<center>S(x) = $\\frac{A-D}{1+({\\frac{x}C)^B}}$ <center>\n",
    "Since the logistics function is fitted using 4 parameters, it's also known as the \"4-parameter logistics\" function, or \"4PL\". "
   ]
  },
  {
   "cell_type": "code",
   "execution_count": 9,
   "id": "85e7d02d",
   "metadata": {},
   "outputs": [],
   "source": [
    "import scipy.optimize as opt\n",
    "from scipy.optimize import curve_fit\n",
    "\n",
    "def sigmoid(x, A, B, C, D):\n",
    "    return ((A-D)/(1.0+((x/C)**B))) + D"
   ]
  },
  {
   "cell_type": "code",
   "execution_count": 10,
   "id": "458426e0",
   "metadata": {},
   "outputs": [
    {
     "name": "stderr",
     "output_type": "stream",
     "text": [
      "/Users/mirandalu/miniconda3/envs/che155/lib/python3.7/site-packages/ipykernel_launcher.py:5: RuntimeWarning: divide by zero encountered in power\n",
      "  \"\"\"\n"
     ]
    },
    {
     "name": "stdout",
     "output_type": "stream",
     "text": [
      "[ 6.81930776 -6.0147057   6.72985084  9.89041547]\n"
     ]
    },
    {
     "data": {
      "image/png": "[encoded data removed]",
      "text/plain": [
       "<Figure size 432x288 with 2 Axes>"
      ]
     },
     "metadata": {
      "needs_background": "light"
     },
     "output_type": "display_data"
    }
   ],
   "source": [
    "#parameters, covariances = curve_fit(gauss, freq, amp, p0=[noise_level,amplitude,center_freq, 0.13])\n",
    "#the initial guess were done by eyeballing, which wasn't difficult since there wasn't much data to work wtith\n",
    "\n",
    "guess = [7, -0.7, 7, 10]\n",
    "\n",
    "params, params_covariance = curve_fit(sigmoid, vol_added_1, ph_1, guess)\n",
    "\n",
    "fig = plt.figure()\n",
    "ax1 = fig.add_subplot()\n",
    "ax1.scatter(vol_added_1,ph_1)\n",
    "\n",
    "ax2 = ax1.twinx()\n",
    "ax2.plot(vol_added_1, sigmoid(vol_added_1, *params),label = \"sigmoid fit\", color='#FFBF00', linewidth=1., alpha=0.9)\n",
    "\n",
    "ax1.set_ylabel(\"pH\")\n",
    "ax1.set_xlabel(\"Volume Added (mL)\")\n",
    "ax2.legend()\n",
    "\n",
    "print(params)"
   ]
  },
  {
   "cell_type": "code",
   "execution_count": 11,
   "id": "beec5401",
   "metadata": {},
   "outputs": [
    {
     "name": "stdout",
     "output_type": "stream",
     "text": [
      "the average residuals after curve fitting is 2.3709848899026536e-10\n"
     ]
    },
    {
     "name": "stderr",
     "output_type": "stream",
     "text": [
      "/Users/mirandalu/miniconda3/envs/che155/lib/python3.7/site-packages/ipykernel_launcher.py:5: RuntimeWarning: divide by zero encountered in power\n",
      "  \"\"\"\n"
     ]
    },
    {
     "data": {
      "text/plain": [
       "Text(0.5, 0, 'volume_added (mL)')"
      ]
     },
     "execution_count": 11,
     "metadata": {},
     "output_type": "execute_result"
    },
    {
     "data": {
      "image/png": "[encoded data removed]",
      "text/plain": [
       "<Figure size 360x144 with 1 Axes>"
      ]
     },
     "metadata": {
      "needs_background": "light"
     },
     "output_type": "display_data"
    }
   ],
   "source": [
    "# calculate residuals\n",
    "# the residuals is in the magnitude of E-10, the fit was good!\n",
    "\n",
    "residuals = sigmoid(vol_added_1, *params) - ph_1\n",
    "print(f'the average residuals after curve fitting is {np.average(residuals)}')\n",
    "\n",
    "plt.figure(figsize=(5,2))\n",
    "fig = plt.scatter(vol_added_1,residuals)\n",
    "plt.ylabel(\"Residuals\")\n",
    "plt.xlabel(\"volume_added (mL)\")"
   ]
  },
  {
   "cell_type": "code",
   "execution_count": 12,
   "id": "6c66d210",
   "metadata": {},
   "outputs": [
    {
     "name": "stderr",
     "output_type": "stream",
     "text": [
      "/Users/mirandalu/miniconda3/envs/che155/lib/python3.7/site-packages/ipykernel_launcher.py:5: RuntimeWarning: divide by zero encountered in power\n",
      "  \"\"\"\n"
     ]
    }
   ],
   "source": [
    "opt_sigmoid = sigmoid(vol_added_1, params[0], params[1],params[2],params[3])\n",
    "\n",
    "first_diff, second_diff = derivatives(vol_added_1,opt_sigmoid)\n",
    "inflection_1 = first_diff.index(max(first_diff))"
   ]
  },
  {
   "cell_type": "code",
   "execution_count": null,
   "id": "7cc1233e",
   "metadata": {},
   "outputs": [],
   "source": []
  },
  {
   "cell_type": "code",
   "execution_count": 13,
   "id": "0c54c364",
   "metadata": {},
   "outputs": [
    {
     "name": "stderr",
     "output_type": "stream",
     "text": [
      "/Users/mirandalu/miniconda3/envs/che155/lib/python3.7/site-packages/ipykernel_launcher.py:5: RuntimeWarning: divide by zero encountered in power\n",
      "  \"\"\"\n",
      "/Users/mirandalu/miniconda3/envs/che155/lib/python3.7/site-packages/ipykernel_launcher.py:5: RuntimeWarning: divide by zero encountered in power\n",
      "  \"\"\"\n"
     ]
    },
    {
     "data": {
      "text/plain": [
       "Text(0, 0.5, '2nd derivative')"
      ]
     },
     "execution_count": 13,
     "metadata": {},
     "output_type": "execute_result"
    },
    {
     "data": {
      "image/png": "[encoded data removed]",
      "text/plain": [
       "<Figure size 432x288 with 4 Axes>"
      ]
     },
     "metadata": {
      "needs_background": "light"
     },
     "output_type": "display_data"
    },
    {
     "data": {
      "text/plain": [
       "<Figure size 432x288 with 0 Axes>"
      ]
     },
     "metadata": {},
     "output_type": "display_data"
    }
   ],
   "source": [
    "fig, (ax1, ax3) = plt.subplots(2, 1, sharex=True)\n",
    "fig = plt.figure()\n",
    "\n",
    "ax1.plot(vol_added_1, sigmoid(vol_added_1, *params))\n",
    "ax1.set_ylabel(\"pH\")\n",
    "\n",
    "ax2 = ax1.twinx()\n",
    "ax2.plot(vol_added_1, first_diff + [0], color='#FFBF00', linewidth=1., alpha=0.9)\n",
    "ax2.set_ylabel(\"1st derivative\")\n",
    "\n",
    "ax3.plot(vol_added_1, sigmoid(vol_added_1, *params))\n",
    "ax3.set_ylabel(\"pH\")\n",
    "ax3.set_xlabel(\"volume added(mL)\")\n",
    "\n",
    "ax4 = ax3.twinx()\n",
    "ax4.plot(vol_added_1, second_diff.tolist()+[0]*(len(vol_added_1)-len(second_diff)), color = '#FFBF00', linewidth=1., alpha=0.9)\n",
    "ax4.set_ylabel(\"2nd derivative\")"
   ]
  },
  {
   "cell_type": "code",
   "execution_count": 14,
   "id": "8d8e27e0",
   "metadata": {},
   "outputs": [],
   "source": [
    "# computing the inflection point using the second derivative\n",
    "opt_sigmoid = opt_sigmoid.tolist()\n",
    "second_diff = second_diff.tolist()\n",
    "inflection_vol_2,inflection_ph_2 = inflection_2_2(second_diff,vol_added_1,opt_sigmoid)"
   ]
  },
  {
   "cell_type": "code",
   "execution_count": null,
   "id": "f43107e1",
   "metadata": {},
   "outputs": [],
   "source": []
  },
  {
   "cell_type": "code",
   "execution_count": 15,
   "id": "7abb206f",
   "metadata": {},
   "outputs": [
    {
     "name": "stdout",
     "output_type": "stream",
     "text": [
      "The first derivative showed the first inflection point has a pH value of 8.74 with 6.2 mL HCl added\n",
      "The second derivative showed the first inflection point has a pH value of 7.82 with 7.8 mL HCl added\n"
     ]
    }
   ],
   "source": [
    "print(f'The first derivative showed the first inflection point has a pH value of {ph_1[inflection_1]} with {vol_added_1[int(inflection_1)]:.1f} mL HCl added')\n",
    "print(f'The second derivative showed the first inflection point has a pH value of {inflection_ph_2:.2f} with {inflection_vol_2:.1f} mL HCl added')"
   ]
  },
  {
   "cell_type": "markdown",
   "id": "3f380e33",
   "metadata": {},
   "source": [
    "Since technically the second inflection point titration was barely completed, a sigmoid function would not work, an alternative had to be used to smooth the noise and to derive the derivitavies. A safe bet with the curve seemed to be a polynomial, so a 4th degree polynomial was used as a best fit. <br>"
   ]
  },
  {
   "cell_type": "code",
   "execution_count": 16,
   "id": "cc52262f",
   "metadata": {},
   "outputs": [],
   "source": [
    "# the curve for the second inflection point may be fitted with a polynomial, so a 4th-degree polynomial was fitted and plotted here\n",
    "\n",
    "def polynomials(x,F, E, D, C, B, A):\n",
    "    return F*x**5+E*x**4+D*x**3+C*x**2+B*x+A"
   ]
  },
  {
   "cell_type": "code",
   "execution_count": 17,
   "id": "43a3ad68",
   "metadata": {},
   "outputs": [
    {
     "data": {
      "text/plain": [
       "<matplotlib.legend.Legend at 0x7ff2d114e210>"
      ]
     },
     "execution_count": 17,
     "metadata": {},
     "output_type": "execute_result"
    },
    {
     "data": {
      "image/png": "[encoded data removed]",
      "text/plain": [
       "<Figure size 432x288 with 2 Axes>"
      ]
     },
     "metadata": {
      "needs_background": "light"
     },
     "output_type": "display_data"
    }
   ],
   "source": [
    "#the curve seem to be a pretty good fit!\n",
    "\n",
    "coeff= np.polyfit(vol_added_2,ph_2,5).tolist()\n",
    "\n",
    "fitted_ph_2 = []\n",
    "for ii in range(len(vol_added_2)):\n",
    "    poly_fit = polynomials(vol_added_2[ii], \n",
    "                           float(coeff[0]),float(coeff[1]),float(coeff[2]),float(coeff[3]),float(coeff[4]),float(coeff[5]))\n",
    "    fitted_ph_2.append(poly_fit)\n",
    "\n",
    "fig = plt.figure()\n",
    "ax1 = fig.add_subplot()\n",
    "ax1.scatter(vol_added_2,ph_2)\n",
    "\n",
    "ax2 = ax1.twinx()\n",
    "ax2.plot(vol_added_2, fitted_ph_2, label = \"5th deg poly fit\", color='#FFBF00', linewidth=1., alpha=0.9)\n",
    "\n",
    "ax1.set_ylabel(\"pH\")\n",
    "ax1.set_xlabel(\"Volume Added (mL)\")\n",
    "ax2.legend()"
   ]
  },
  {
   "cell_type": "code",
   "execution_count": 18,
   "id": "52cdbbbf",
   "metadata": {},
   "outputs": [
    {
     "data": {
      "image/png": "[encoded data removed]",
      "text/plain": [
       "<Figure size 360x144 with 1 Axes>"
      ]
     },
     "metadata": {
      "needs_background": "light"
     },
     "output_type": "display_data"
    },
    {
     "name": "stdout",
     "output_type": "stream",
     "text": [
      "The average residuals after curve fitting is -6.710591678297946e-13\n"
     ]
    }
   ],
   "source": [
    "# calculate the residuals, the residuals are in the order of magnitude of 10^-3 which is within tolerance\n",
    "\n",
    "residuals_2 = fitted_ph_2 - ph_2\n",
    "\n",
    "plt.figure(figsize=(5,2))\n",
    "fig = plt.scatter(vol_added_2,residuals_2)\n",
    "plt.ylabel(\"Residuals\")\n",
    "plt.xlabel(\"volume_added (mL)\")\n",
    "plt.show()\n",
    "\n",
    "print(f'The average residuals after curve fitting is {np.average(residuals_2)}')"
   ]
  },
  {
   "cell_type": "markdown",
   "id": "0821ddae",
   "metadata": {},
   "source": []
  },
  {
   "cell_type": "code",
   "execution_count": 19,
   "id": "4740914c",
   "metadata": {},
   "outputs": [],
   "source": [
    "#calculate the derivatives\n",
    "\n",
    "first_diff_2, second_diff_2 = derivatives(vol_added_2,fitted_ph_2)\n",
    "inflection_2 = first_diff_2.index(max(first_diff_2))"
   ]
  },
  {
   "cell_type": "code",
   "execution_count": 20,
   "id": "90de5aee",
   "metadata": {},
   "outputs": [
    {
     "data": {
      "text/plain": [
       "Text(0.5, 0, 'volume added(mL)')"
      ]
     },
     "execution_count": 20,
     "metadata": {},
     "output_type": "execute_result"
    },
    {
     "data": {
      "image/png": "[encoded data removed]",
      "text/plain": [
       "<Figure size 432x288 with 4 Axes>"
      ]
     },
     "metadata": {
      "needs_background": "light"
     },
     "output_type": "display_data"
    },
    {
     "data": {
      "text/plain": [
       "<Figure size 432x288 with 0 Axes>"
      ]
     },
     "metadata": {},
     "output_type": "display_data"
    }
   ],
   "source": [
    "fig, (ax1, ax3) = plt.subplots(2, 1, sharex=True)\n",
    "fig = plt.figure()\n",
    "\n",
    "ax1.plot(vol_added_2, fitted_ph_2)\n",
    "ax1.set_ylabel(\"pH\")\n",
    "\n",
    "ax2 = ax1.twinx()\n",
    "ax2.plot(vol_added_2, first_diff_2 + [0], color='#FFBF00', linewidth=1., alpha=0.9)\n",
    "ax2.set_ylabel(\"1st derivative\")\n",
    "\n",
    "\n",
    "ax3.plot(vol_added_2, fitted_ph_2)\n",
    "ax3.set_ylabel(\"pH\")\n",
    "ax4 = ax3.twinx()\n",
    "ax4.plot(vol_added_2, second_diff_2.tolist()+[0]*(len(vol_added_1)-len(second_diff)), color='#FFBF00', linewidth=1., alpha=0.9)\n",
    "ax4.set_ylabel(\"1st derivative\")\n",
    "\n",
    "ax3.set_xlabel(\"volume added(mL)\")"
   ]
  },
  {
   "cell_type": "code",
   "execution_count": 21,
   "id": "089b0e16",
   "metadata": {},
   "outputs": [
    {
     "name": "stdout",
     "output_type": "stream",
     "text": [
      "The first derivative showed the second inflection point has a pH value of 4.61 with 26.4 mL HCl added\n",
      "The second derivative showed the second inflection point has a pH value of 4.99 with 25.8 mL HCl added\n"
     ]
    }
   ],
   "source": [
    "# from the plot, the second derivative seems to be significantly off from where the inflection point is by eyeballing\n",
    "second_diff_2 = second_diff_2.tolist()\n",
    "inflection_vol_2,inflection_ph_2 = inflection_2_2(second_diff_2,vol_added_2,fitted_ph_2)\n",
    "\n",
    "print(f'The first derivative showed the second inflection point has a pH value of {ph_2[inflection_2]} with {vol_added_2[int(inflection_2)]:.1f} mL HCl added')\n",
    "print(f'The second derivative showed the second inflection point has a pH value of {inflection_ph_2:.2f} with {inflection_vol_2:.1f} mL HCl added')"
   ]
  },
  {
   "cell_type": "code",
   "execution_count": 22,
   "id": "41f6f26b",
   "metadata": {},
   "outputs": [
    {
     "name": "stdout",
     "output_type": "stream",
     "text": [
      "Thre was 0.06755g of sodium carbonate and 0.22799g of sodumn bicarbonate in the sample\n",
      "The relative composition was 22.86% of sodium carbonate and 77.14% of sodium bicarbonate\n"
     ]
    }
   ],
   "source": [
    "# calculate the relative concentration of sodium carbonate and sodium bicarbonate in the sample\n",
    "# there was too much uncertainties when second derivative was used, so first derivative was used to compute the final results\n",
    "# HCl standardized concentration was in M, the molar mass of Na2CO3 was 105.00g/mol and NaHCO3 was 84.007g/mol\n",
    "\n",
    "hcl_standard = 0.1028 \n",
    "Na2CO3 = vol_added_1[int(inflection_1)] * hcl_standard *10**(-3) * 105.99\n",
    "NaHCO3 = vol_added_2[int(inflection_2)] * hcl_standard *10**(-3) * 84.007\n",
    "\n",
    "print(f'Thre was {Na2CO3:0.5f}g of sodium carbonate and {NaHCO3:0.5f}g of sodumn bicarbonate in the sample')\n",
    "print(f'The relative composition was {(Na2CO3/(Na2CO3+NaHCO3)*100):0.2f}% of sodium carbonate and {(NaHCO3/(Na2CO3+NaHCO3)*100):0.2f}% of sodium bicarbonate')"
   ]
  },
  {
   "cell_type": "code",
   "execution_count": null,
   "id": "a1926d29",
   "metadata": {},
   "outputs": [],
   "source": []
  }
 ],
 "metadata": {
  "kernelspec": {
   "display_name": "Python 3 (ipykernel)",
   "language": "python",
   "name": "python3"
  },
  "language_info": {
   "codemirror_mode": {
    "name": "ipython",
    "version": 3
   },
   "file_extension": ".py",
   "mimetype": "text/x-python",
   "name": "python",
   "nbconvert_exporter": "python",
   "pygments_lexer": "ipython3",
   "version": "3.7.12"
  }
 },
 "nbformat": 4,
 "nbformat_minor": 5
}
